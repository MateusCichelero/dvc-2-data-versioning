{
 "cells": [
  {
   "cell_type": "markdown",
   "metadata": {},
   "source": [
    "# Data Versioning\n",
    "\n",
    "\n",
    "- examples from here: https://dvc.org/doc/tutorials/get-started/data-versioning\n"
   ]
  },
  {
   "cell_type": "markdown",
   "metadata": {},
   "source": [
    "## Install DVC"
   ]
  },
  {
   "cell_type": "code",
   "execution_count": 14,
   "metadata": {},
   "outputs": [
    {
     "name": "stdout",
     "output_type": "stream",
     "text": [
      "Collecting dvc>=1.0.0a6\n",
      "  Downloading dvc-1.0.0a10-py2.py3-none-any.whl (388 kB)\n",
      "\u001b[K     |████████████████████████████████| 388 kB 60 kB/s eta 0:00:01\n",
      "\u001b[?25hProcessing /home/alex/.cache/pip/wheels/49/68/a0/8e7cb7bbf4990fc10b5a082aa0eb3ac66787ca11e8eca445b2/flufl.lock-3.2-py3-none-any.whl\n",
      "Collecting distro>=1.3.0\n",
      "  Using cached distro-1.5.0-py2.py3-none-any.whl (18 kB)\n",
      "Processing /home/alex/.cache/pip/wheels/af/ee/20/047a79ba5ff692baa2f7e2e95c0cd57061a1673d59f5acf0d5/voluptuous-0.11.7-py3-none-any.whl\n",
      "Collecting ruamel.yaml>=0.16.1\n",
      "  Using cached ruamel.yaml-0.16.10-py2.py3-none-any.whl (111 kB)\n",
      "Collecting pyasn1>=0.4.1\n",
      "  Using cached pyasn1-0.4.8-py2.py3-none-any.whl (77 kB)\n",
      "Collecting pathspec>=0.6.0\n",
      "  Using cached pathspec-0.8.0-py2.py3-none-any.whl (28 kB)\n",
      "Collecting requests>=2.22.0\n",
      "  Using cached requests-2.23.0-py2.py3-none-any.whl (58 kB)\n",
      "Processing /home/alex/.cache/pip/wheels/17/a2/0a/00fa5a0d6f271c82fc59be9ae47173bb6e6a462d4361224072/jsonpath_ng-1.5.1-py3-none-any.whl\n",
      "Processing /home/alex/.cache/pip/wheels/89/be/94/2c6d949ce599d1443426d83ba4dc93cd35c0f4638260930a53/treelib-1.6.1-py3-none-any.whl\n",
      "Collecting humanize>=0.5.1\n",
      "  Using cached humanize-2.4.0-py3-none-any.whl (62 kB)\n",
      "Collecting colorama>=0.3.9\n",
      "  Using cached colorama-0.4.3-py2.py3-none-any.whl (15 kB)\n",
      "Processing /home/alex/.cache/pip/wheels/ce/22/5c/bcd55db68399954d13c8d3b23192a517dd59ba3ee8648fa773/pygtrie-2.3.2-py3-none-any.whl\n",
      "Collecting tqdm<5,>=4.45.0\n",
      "  Using cached tqdm-4.46.1-py2.py3-none-any.whl (63 kB)\n",
      "Processing /home/alex/.cache/pip/wheels/b8/92/aa/456d462c908b4e210c3928f778d28f94049fc9e47af8b191c9/nanotime-0.5.2-py3-none-any.whl\n",
      "Requirement already satisfied: packaging>=19.0 in ./venv/lib/python3.7/site-packages (from dvc>=1.0.0a6) (20.4)\n",
      "Collecting zc.lockfile>=1.2.1\n",
      "  Using cached zc.lockfile-2.0-py2.py3-none-any.whl (9.7 kB)\n",
      "Processing /home/alex/.cache/pip/wheels/0d/c4/19/13d74440f2a571841db6b6e0a273694327498884dafb9cf978/configobj-5.0.6-py3-none-any.whl\n",
      "Collecting grandalf==0.6\n",
      "  Using cached grandalf-0.6-py3-none-any.whl (31 kB)\n",
      "Collecting tabulate>=0.8.7\n",
      "  Using cached tabulate-0.8.7-py3-none-any.whl (24 kB)\n",
      "Collecting inflect<4,>=2.1.0\n",
      "  Using cached inflect-3.0.2-py2.py3-none-any.whl (31 kB)\n",
      "Processing /home/alex/.cache/pip/wheels/5e/03/1e/e1e954795d6f35dfc7b637fe2277bff021303bd9570ecea653/PyYAML-5.3.1-cp37-cp37m-linux_x86_64.whl\n",
      "Collecting pydot>=1.2.4\n",
      "  Using cached pydot-1.4.1-py2.py3-none-any.whl (19 kB)\n",
      "Collecting appdirs>=1.4.3\n",
      "  Using cached appdirs-1.4.4-py2.py3-none-any.whl (9.6 kB)\n",
      "Processing /home/alex/.cache/pip/wheels/44/e6/b8/4efaab31158e9e9ca9ed80b11f6b11130bac9a9672b3cbbeaf/networkx-2.3-py2.py3-none-any.whl\n",
      "Collecting shortuuid>=0.5.0\n",
      "  Using cached shortuuid-1.0.1-py3-none-any.whl (7.5 kB)\n",
      "Requirement already satisfied: setuptools>=34.0.0 in ./venv/lib/python3.7/site-packages (from dvc>=1.0.0a6) (47.1.1)\n",
      "Collecting flatten-json>=0.1.6\n",
      "  Using cached flatten_json-0.1.7-py3-none-any.whl (6.4 kB)\n",
      "Processing /home/alex/.cache/pip/wheels/3c/33/97/805b282e129f60bb4e87cea622338f30b65f21eaf65219971f/funcy-1.14-py2.py3-none-any.whl\n",
      "Processing /home/alex/.cache/pip/wheels/bc/f8/ae/bc69cb5f61393ebf9ade4cde41d1a813d35bfe78263a26f99e/dpath-2.0.1-py3-none-any.whl\n",
      "Collecting gitpython>3\n",
      "  Using cached GitPython-3.1.3-py3-none-any.whl (451 kB)\n",
      "Collecting ply>=3.9\n",
      "  Using cached ply-3.11-py2.py3-none-any.whl (49 kB)\n",
      "Processing /home/alex/.cache/pip/wheels/a6/28/07/8e7b8a0eedd46178505437c4f0d646f8cafa5a4369e4f91dcf/atpublic-1.0-py3-none-any.whl\n",
      "Collecting ruamel.yaml.clib>=0.1.2; platform_python_implementation == \"CPython\" and python_version < \"3.9\"\n",
      "  Using cached ruamel.yaml.clib-0.2.0-cp37-cp37m-manylinux1_x86_64.whl (547 kB)\n",
      "Collecting idna<3,>=2.5\n",
      "  Using cached idna-2.9-py2.py3-none-any.whl (58 kB)\n",
      "Collecting urllib3!=1.25.0,!=1.25.1,<1.26,>=1.21.1\n",
      "  Using cached urllib3-1.25.9-py2.py3-none-any.whl (126 kB)\n",
      "Collecting certifi>=2017.4.17\n",
      "  Downloading certifi-2020.4.5.2-py2.py3-none-any.whl (157 kB)\n",
      "\u001b[K     |████████████████████████████████| 157 kB 158 kB/s eta 0:00:01\n",
      "\u001b[?25hCollecting chardet<4,>=3.0.2\n",
      "  Using cached chardet-3.0.4-py2.py3-none-any.whl (133 kB)\n",
      "Requirement already satisfied: decorator in ./venv/lib/python3.7/site-packages (from jsonpath-ng>=1.5.1->dvc>=1.0.0a6) (4.4.2)\n",
      "Requirement already satisfied: six in ./venv/lib/python3.7/site-packages (from jsonpath-ng>=1.5.1->dvc>=1.0.0a6) (1.15.0)\n",
      "Processing /home/alex/.cache/pip/wheels/8b/99/a0/81daf51dcd359a9377b110a8a886b3895921802d2fc1b2397e/future-0.18.2-cp37-none-any.whl\n",
      "Requirement already satisfied: pyparsing>=2.0.2 in ./venv/lib/python3.7/site-packages (from packaging>=19.0->dvc>=1.0.0a6) (2.4.7)\n",
      "Requirement already satisfied: importlib-metadata in ./venv/lib/python3.7/site-packages (from inflect<4,>=2.1.0->dvc>=1.0.0a6) (1.6.1)\n",
      "Collecting gitdb<5,>=4.0.1\n",
      "  Using cached gitdb-4.0.5-py3-none-any.whl (63 kB)\n",
      "Requirement already satisfied: zipp>=0.5 in ./venv/lib/python3.7/site-packages (from importlib-metadata->inflect<4,>=2.1.0->dvc>=1.0.0a6) (3.1.0)\n",
      "Collecting smmap<4,>=3.0.1\n",
      "  Using cached smmap-3.0.4-py2.py3-none-any.whl (25 kB)\n",
      "Installing collected packages: atpublic, flufl.lock, distro, voluptuous, ruamel.yaml.clib, ruamel.yaml, pyasn1, pathspec, idna, urllib3, certifi, chardet, requests, ply, jsonpath-ng, future, treelib, humanize, colorama, pygtrie, tqdm, nanotime, zc.lockfile, configobj, grandalf, tabulate, inflect, PyYAML, pydot, appdirs, networkx, shortuuid, flatten-json, funcy, dpath, smmap, gitdb, gitpython, dvc\n",
      "Successfully installed PyYAML-5.3.1 appdirs-1.4.4 atpublic-1.0 certifi-2020.4.5.2 chardet-3.0.4 colorama-0.4.3 configobj-5.0.6 distro-1.5.0 dpath-2.0.1 dvc-1.0.0a10 flatten-json-0.1.7 flufl.lock-3.2 funcy-1.14 future-0.18.2 gitdb-4.0.5 gitpython-3.1.3 grandalf-0.6 humanize-2.4.0 idna-2.9 inflect-3.0.2 jsonpath-ng-1.5.1 nanotime-0.5.2 networkx-2.3 pathspec-0.8.0 ply-3.11 pyasn1-0.4.8 pydot-1.4.1 pygtrie-2.3.2 requests-2.23.0 ruamel.yaml-0.16.10 ruamel.yaml.clib-0.2.0 shortuuid-1.0.1 smmap-3.0.4 tabulate-0.8.7 tqdm-4.46.1 treelib-1.6.1 urllib3-1.25.9 voluptuous-0.11.7 zc.lockfile-2.0\n"
     ]
    }
   ],
   "source": [
    "!pip install \"dvc>=1.0.0a6\""
   ]
  },
  {
   "cell_type": "markdown",
   "metadata": {},
   "source": [
    "## Checkout branch `tutorial`"
   ]
  },
  {
   "cell_type": "code",
   "execution_count": 1,
   "metadata": {},
   "outputs": [
    {
     "name": "stdout",
     "output_type": "stream",
     "text": [
      "Переключено на новую ветку «tutorial»\r\n"
     ]
    }
   ],
   "source": [
    "!git checkout -b tutorial"
   ]
  },
  {
   "cell_type": "markdown",
   "metadata": {},
   "source": [
    "## Initialize DVC"
   ]
  },
  {
   "cell_type": "code",
   "execution_count": 37,
   "metadata": {},
   "outputs": [
    {
     "name": "stdout",
     "output_type": "stream",
     "text": [
      "\n",
      "You can now commit the changes to git.\n",
      "\n",
      "\u001b[31m+---------------------------------------------------------------------+\n",
      "\u001b[39m\u001b[31m|\u001b[39m                                                                     \u001b[31m|\u001b[39m\n",
      "\u001b[31m|\u001b[39m        DVC has enabled anonymous aggregate usage analytics.         \u001b[31m|\u001b[39m\n",
      "\u001b[31m|\u001b[39m     Read the analytics documentation (and how to opt-out) here:     \u001b[31m|\u001b[39m\n",
      "\u001b[31m|\u001b[39m              \u001b[34mhttps://dvc.org/doc/user-guide/analytics\u001b[39m               \u001b[31m|\u001b[39m\n",
      "\u001b[31m|\u001b[39m                                                                     \u001b[31m|\u001b[39m\n",
      "\u001b[31m+---------------------------------------------------------------------+\n",
      "\u001b[39m\n",
      "\u001b[33mWhat's next?\u001b[39m\n",
      "\u001b[33m------------\u001b[39m\n",
      "- Check out the documentation: \u001b[34mhttps://dvc.org/doc\u001b[39m\n",
      "- Get help and share ideas: \u001b[34mhttps://dvc.org/chat\u001b[39m\n",
      "- Star us on GitHub: \u001b[34mhttps://github.com/iterative/dvc\u001b[39m\n",
      "\u001b[0m"
     ]
    }
   ],
   "source": [
    "!dvc init"
   ]
  },
  {
   "cell_type": "code",
   "execution_count": 38,
   "metadata": {},
   "outputs": [
    {
     "name": "stdout",
     "output_type": "stream",
     "text": [
      "config\tplots  tmp\r\n"
     ]
    }
   ],
   "source": [
    "!ls .dvc/"
   ]
  },
  {
   "cell_type": "code",
   "execution_count": 39,
   "metadata": {},
   "outputs": [
    {
     "name": "stdout",
     "output_type": "stream",
     "text": [
      "На ветке tutorial\r\n",
      "Изменения, которые будут включены в коммит:\r\n",
      "  (используйте «git reset HEAD <файл>…», чтобы убрать из индекса)\r\n",
      "\r\n",
      "\t\u001b[32mновый файл:    .dvc/.gitignore\u001b[m\r\n",
      "\t\u001b[32mновый файл:    .dvc/config\u001b[m\r\n",
      "\t\u001b[32mновый файл:    .dvc/plots/confusion.json\u001b[m\r\n",
      "\t\u001b[32mновый файл:    .dvc/plots/default.json\u001b[m\r\n",
      "\t\u001b[32mновый файл:    .dvc/plots/scatter.json\u001b[m\r\n",
      "\r\n"
     ]
    }
   ],
   "source": [
    "!git status"
   ]
  },
  {
   "cell_type": "code",
   "execution_count": 40,
   "metadata": {},
   "outputs": [
    {
     "name": "stdout",
     "output_type": "stream",
     "text": [
      "[tutorial a631817] DVC init\r\n",
      " 5 files changed, 89 insertions(+)\r\n",
      " create mode 100644 .dvc/.gitignore\r\n",
      " create mode 100644 .dvc/config\r\n",
      " create mode 100644 .dvc/plots/confusion.json\r\n",
      " create mode 100644 .dvc/plots/default.json\r\n",
      " create mode 100644 .dvc/plots/scatter.json\r\n"
     ]
    }
   ],
   "source": [
    "!git add .dvc\n",
    "!git commit -m \"DVC init\""
   ]
  },
  {
   "cell_type": "markdown",
   "metadata": {},
   "source": [
    "## Get Dataset "
   ]
  },
  {
   "cell_type": "code",
   "execution_count": 43,
   "metadata": {},
   "outputs": [
    {
     "name": "stdout",
     "output_type": "stream",
     "text": [
      "  2% Downloading|▌                        |38.0/1.80k [00:16<04:59,  5.89file/s]^C\n",
      "  2% Downloading|▌                        |41.0/1.80k [00:16<04:21,  6.72file/s]"
     ]
    }
   ],
   "source": [
    "!dvc get --rev cats-dogs-v1 \\\n",
    "          https://github.com/iterative/dataset-registry \\\n",
    "          use-cases/cats-dogs -o datadir"
   ]
  },
  {
   "cell_type": "code",
   "execution_count": null,
   "metadata": {},
   "outputs": [],
   "source": []
  },
  {
   "cell_type": "markdown",
   "metadata": {},
   "source": [
    "## Add file under DVC control"
   ]
  },
  {
   "cell_type": "code",
   "execution_count": null,
   "metadata": {},
   "outputs": [],
   "source": []
  },
  {
   "cell_type": "code",
   "execution_count": null,
   "metadata": {},
   "outputs": [],
   "source": []
  },
  {
   "cell_type": "code",
   "execution_count": null,
   "metadata": {},
   "outputs": [],
   "source": []
  },
  {
   "cell_type": "markdown",
   "metadata": {},
   "source": [
    "##  Add data directory version control"
   ]
  },
  {
   "cell_type": "code",
   "execution_count": 17,
   "metadata": {},
   "outputs": [
    {
     "name": "stdout",
     "output_type": "stream",
     "text": [
      "Adding...                                                                       \n",
      "\u001b[31mERROR\u001b[39m: Cannot add 'data/iris.csv', because it is overlapping with other DVC tracked output: 'data'.\n",
      "To include 'data/iris.csv' in 'data', run 'dvc commit data.dvc'\n",
      "\n",
      "\u001b[33mHaving any troubles?\u001b[39m Hit us up at \u001b[34mhttps://dvc.org/support\u001b[39m, we are always happy to help!\n",
      "\u001b[0m"
     ]
    }
   ],
   "source": [
    "!dvc add datadir"
   ]
  },
  {
   "cell_type": "code",
   "execution_count": null,
   "metadata": {},
   "outputs": [],
   "source": []
  },
  {
   "cell_type": "code",
   "execution_count": null,
   "metadata": {},
   "outputs": [],
   "source": []
  },
  {
   "cell_type": "markdown",
   "metadata": {},
   "source": [
    "## Commit changes"
   ]
  },
  {
   "cell_type": "code",
   "execution_count": 34,
   "metadata": {},
   "outputs": [
    {
     "name": "stdout",
     "output_type": "stream",
     "text": [
      "На ветке tutorial\r\n",
      "Изменения, которые не в индексе для коммита:\r\n",
      "  (используйте «git add <файл>…», чтобы добавить файл в индекс)\r\n",
      "  (используйте «git checkout -- <файл>…», чтобы отменить изменения\r\n",
      "   в рабочем каталоге)\r\n",
      "\r\n",
      "\t\u001b[31mизменено:      Lesson 3.ipynb\u001b[m\r\n",
      "\r\n",
      "Неотслеживаемые файлы:\r\n",
      "  (используйте «git add <файл>…», чтобы добавить в то, что будет включено в коммит)\r\n",
      "\r\n",
      "\t\u001b[31mdata/\u001b[m\r\n",
      "\r\n",
      "нет изменений добавленных для коммита\r\n",
      "(используйте «git add» и/или «git commit -a»)\r\n"
     ]
    }
   ],
   "source": [
    "!git status"
   ]
  },
  {
   "cell_type": "code",
   "execution_count": 35,
   "metadata": {},
   "outputs": [
    {
     "name": "stdout",
     "output_type": "stream",
     "text": [
      "[tutorial 128bbce] Add raw data\r\n",
      " 2 files changed, 4 insertions(+)\r\n",
      " create mode 100644 data/.gitignore\r\n",
      " create mode 100644 data/iris.csv.dvc\r\n"
     ]
    }
   ],
   "source": [
    "!git add .gitignore datadir.dvc\n",
    "!git commit -m \"Add raw data\""
   ]
  },
  {
   "cell_type": "markdown",
   "metadata": {},
   "source": [
    "# Track changes "
   ]
  },
  {
   "cell_type": "markdown",
   "metadata": {},
   "source": [
    "## Tracking changes "
   ]
  },
  {
   "cell_type": "code",
   "execution_count": 36,
   "metadata": {},
   "outputs": [
    {
     "name": "stdout",
     "output_type": "stream",
     "text": [
      "Data and pipelines are up to date.                                              \n",
      "\u001b[0m"
     ]
    }
   ],
   "source": [
    "!dvc status"
   ]
  },
  {
   "cell_type": "code",
   "execution_count": null,
   "metadata": {},
   "outputs": [],
   "source": []
  },
  {
   "cell_type": "markdown",
   "metadata": {},
   "source": [
    "## Updating Tracked Files"
   ]
  },
  {
   "cell_type": "code",
   "execution_count": null,
   "metadata": {},
   "outputs": [],
   "source": [
    "!dvc get --rev cats-dogs-v2 \\\n",
    "          https://github.com/iterative/dataset-registry \\\n",
    "          use-cases/cats-dogs -o datadir"
   ]
  },
  {
   "cell_type": "code",
   "execution_count": 45,
   "metadata": {},
   "outputs": [
    {
     "name": "stdout",
     "output_type": "stream",
     "text": [
      "Data and pipelines are up to date.                                              \n",
      "\u001b[0m\u001b[1mdiff --git a/Lesson 3.ipynb b/Lesson 3.ipynb\u001b[m\n",
      "\u001b[1mindex 0320aaf..6e6a670 100644\u001b[m\n",
      "\u001b[1m--- a/Lesson 3.ipynb\u001b[m\t\n",
      "\u001b[1m+++ b/Lesson 3.ipynb\u001b[m\t\n",
      "\u001b[36m@@ -142,7 +142,7 @@\u001b[m\n",
      "   },\u001b[m\n",
      "   {\u001b[m\n",
      "    \"cell_type\": \"code\",\u001b[m\n",
      "\u001b[31m-   \"execution_count\": 27,\u001b[m\n",
      "\u001b[32m+\u001b[m\u001b[32m   \"execution_count\": 37,\u001b[m\n",
      "    \"metadata\": {},\u001b[m\n",
      "    \"outputs\": [\u001b[m\n",
      "     {\u001b[m\n",
      "\u001b[36m@@ -175,7 +175,7 @@\u001b[m\n",
      "   },\u001b[m\n",
      "   {\u001b[m\n",
      "    \"cell_type\": \"code\",\u001b[m\n",
      "\u001b[31m-   \"execution_count\": 28,\u001b[m\n",
      "\u001b[32m+\u001b[m\u001b[32m   \"execution_count\": 38,\u001b[m\n",
      "    \"metadata\": {},\u001b[m\n",
      "    \"outputs\": [\u001b[m\n",
      "     {\u001b[m\n",
      "\u001b[36m@@ -192,7 +192,7 @@\u001b[m\n",
      "   },\u001b[m\n",
      "   {\u001b[m\n",
      "    \"cell_type\": \"code\",\u001b[m\n",
      "\u001b[31m-   \"execution_count\": 29,\u001b[m\n",
      "\u001b[32m+\u001b[m\u001b[32m   \"execution_count\": 39,\u001b[m\n",
      "    \"metadata\": {},\u001b[m\n",
      "    \"outputs\": [\u001b[m\n",
      "     {\u001b[m\n",
      "\u001b[36m@@ -208,13 +208,6 @@\u001b[m\n",
      "       \"\\t\\u001b[32mновый файл:    .dvc/plots/confusion.json\\u001b[m\\r\\n\",\u001b[m\n",
      "       \"\\t\\u001b[32mновый файл:    .dvc/plots/default.json\\u001b[m\\r\\n\",\u001b[m\n",
      "       \"\\t\\u001b[32mновый файл:    .dvc/plots/scatter.json\\u001b[m\\r\\n\",\u001b[m\n",
      "\u001b[31m-      \"\\r\\n\",\u001b[m\n",
      "\u001b[31m-      \"Изменения, которые не в индексе для коммита:\\r\\n\",\u001b[m\n",
      "\u001b[31m-      \"  (используйте «git add <файл>…», чтобы добавить файл в индекс)\\r\\n\",\u001b[m\n",
      "\u001b[31m-      \"  (используйте «git checkout -- <файл>…», чтобы отменить изменения\\r\\n\",\u001b[m\n",
      "\u001b[31m-      \"   в рабочем каталоге)\\r\\n\",\u001b[m\n",
      "\u001b[31m-      \"\\r\\n\",\u001b[m\n",
      "\u001b[31m-      \"\\t\\u001b[31mизменено:      Lesson 3.ipynb\\u001b[m\\r\\n\",\u001b[m\n",
      "       \"\\r\\n\"\u001b[m\n",
      "      ]\u001b[m\n",
      "     }\u001b[m\n",
      "\u001b[36m@@ -225,14 +218,14 @@\u001b[m\n",
      "   },\u001b[m\n",
      "   {\u001b[m\n",
      "    \"cell_type\": \"code\",\u001b[m\n",
      "\u001b[31m-   \"execution_count\": 30,\u001b[m\n",
      "\u001b[32m+\u001b[m\u001b[32m   \"execution_count\": 40,\u001b[m\n",
      "    \"metadata\": {},\u001b[m\n",
      "    \"outputs\": [\u001b[m\n",
      "     {\u001b[m\n",
      "      \"name\": \"stdout\",\u001b[m\n",
      "      \"output_type\": \"stream\",\u001b[m\n",
      "      \"text\": [\u001b[m\n",
      "\u001b[31m-      \"[tutorial 5cd95a0] DVC init\\r\\n\",\u001b[m\n",
      "\u001b[32m+\u001b[m\u001b[32m      \"[tutorial a631817] DVC init\\r\\n\",\u001b[m\n",
      "       \" 5 files changed, 89 insertions(+)\\r\\n\",\u001b[m\n",
      "       \" create mode 100644 .dvc/.gitignore\\r\\n\",\u001b[m\n",
      "       \" create mode 100644 .dvc/config\\r\\n\",\u001b[m\n",
      "\u001b[36m@@ -256,21 +249,22 @@\u001b[m\n",
      "   },\u001b[m\n",
      "   {\u001b[m\n",
      "    \"cell_type\": \"code\",\u001b[m\n",
      "\u001b[31m-   \"execution_count\": 32,\u001b[m\n",
      "\u001b[32m+\u001b[m\u001b[32m   \"execution_count\": 43,\u001b[m\n",
      "    \"metadata\": {},\u001b[m\n",
      "    \"outputs\": [\u001b[m\n",
      "     {\u001b[m\n",
      "      \"name\": \"stdout\",\u001b[m\n",
      "      \"output_type\": \"stream\",\u001b[m\n",
      "      \"text\": [\u001b[m\n",
      "\u001b[31m-      \"\\u001b[0m                                                                            \"\u001b[m\n",
      "\u001b[32m+\u001b[m\u001b[32m      \"  2% Downloading|▌                        |38.0/1.80k [00:16<04:59,  5.89file/s]^C\\n\",\u001b[m\n",
      "\u001b[32m+\u001b[m\u001b[32m      \"  2% Downloading|▌                        |41.0/1.80k [00:16<04:21,  6.72file/s]\"\u001b[m\n",
      "      ]\u001b[m\n",
      "     }\u001b[m\n",
      "    ],\u001b[m\n",
      "    \"source\": [\u001b[m\n",
      "\u001b[31m-    \"!mkdir -p data\\n\",\u001b[m\n",
      "\u001b[31m-    \"!dvc get-url https://raw.githubusercontent.com/uiuc-cse/data-fa14/gh-pages/data/iris.csv \\\\\\n\",\u001b[m\n",
      "\u001b[31m-    \"          data/iris.csv\"\u001b[m\n",
      "\u001b[32m+\u001b[m\u001b[32m    \"!dvc get --rev cats-dogs-v1 \\\\\\n\",\u001b[m\n",
      "\u001b[32m+\u001b[m\u001b[32m    \"          https://github.com/iterative/dataset-registry \\\\\\n\",\u001b[m\n",
      "\u001b[32m+\u001b[m\u001b[32m    \"          use-cases/cats-dogs -o datadir\"\u001b[m\n",
      "    ]\u001b[m\n",
      "   },\u001b[m\n",
      "   {\u001b[m\n",
      "\u001b[36m@@ -289,28 +283,6 @@\u001b[m\n",
      "   },\u001b[m\n",
      "   {\u001b[m\n",
      "    \"cell_type\": \"code\",\u001b[m\n",
      "\u001b[31m-   \"execution_count\": 33,\u001b[m\n",
      "\u001b[31m-   \"metadata\": {},\u001b[m\n",
      "\u001b[31m-   \"outputs\": [\u001b[m\n",
      "\u001b[31m-    {\u001b[m\n",
      "\u001b[31m-     \"name\": \"stdout\",\u001b[m\n",
      "\u001b[31m-     \"output_type\": \"stream\",\u001b[m\n",
      "\u001b[31m-     \"text\": [\u001b[m\n",
      "\u001b[31m-      \"100% Add|██████████████████████████████████████████████|1/1 [00:01,  1.73s/file]\\n\",\u001b[m\n",
      "\u001b[31m-      \"\\n\",\u001b[m\n",
      "\u001b[31m-      \"To track the changes with git, run:\\n\",\u001b[m\n",
      "\u001b[31m-      \"\\n\",\u001b[m\n",
      "\u001b[31m-      \"\\tgit add data/iris.csv.dvc data/.gitignore\\n\",\u001b[m\n",
      "\u001b[31m-      \"\\u001b[0m\"\u001b[m\n",
      "\u001b[31m-     ]\u001b[m\n",
      "\u001b[31m-    }\u001b[m\n",
      "\u001b[31m-   ],\u001b[m\n",
      "\u001b[31m-   \"source\": [\u001b[m\n",
      "\u001b[31m-    \"!dvc add data/iris.csv\"\u001b[m\n",
      "\u001b[31m-   ]\u001b[m\n",
      "\u001b[31m-  },\u001b[m\n",
      "\u001b[31m-  {\u001b[m\n",
      "\u001b[31m-   \"cell_type\": \"code\",\u001b[m\n",
      "    \"execution_count\": null,\u001b[m\n",
      "    \"metadata\": {},\u001b[m\n",
      "    \"outputs\": [],\u001b[m\n",
      "\u001b[36m@@ -356,7 +328,7 @@\u001b[m\n",
      "     }\u001b[m\n",
      "    ],\u001b[m\n",
      "    \"source\": [\u001b[m\n",
      "\u001b[31m-    \"!dvc add data\"\u001b[m\n",
      "\u001b[32m+\u001b[m\u001b[32m    \"!dvc add datadir\"\u001b[m\n",
      "    ]\u001b[m\n",
      "   },\u001b[m\n",
      "   {\u001b[m\n"
     ]
    }
   ],
   "source": [
    "!dvc status"
   ]
  },
  {
   "cell_type": "code",
   "execution_count": null,
   "metadata": {},
   "outputs": [],
   "source": [
    "!git status"
   ]
  },
  {
   "cell_type": "code",
   "execution_count": null,
   "metadata": {},
   "outputs": [],
   "source": [
    "!git add datadir.dvc\n",
    "!git commit -m \"Change data\""
   ]
  },
  {
   "cell_type": "markdown",
   "metadata": {},
   "source": [
    "# Switching versions"
   ]
  },
  {
   "cell_type": "code",
   "execution_count": null,
   "metadata": {},
   "outputs": [],
   "source": [
    "!git checkout HEAD^ datadir.dvc\n",
    "!dvc checkout datadir.dvc"
   ]
  },
  {
   "cell_type": "code",
   "execution_count": null,
   "metadata": {},
   "outputs": [],
   "source": []
  },
  {
   "cell_type": "code",
   "execution_count": null,
   "metadata": {
    "ExecuteTime": {
     "end_time": "2020-06-07T19:06:41.574344Z",
     "start_time": "2020-06-07T19:06:41.453283Z"
    }
   },
   "outputs": [],
   "source": []
  },
  {
   "cell_type": "markdown",
   "metadata": {},
   "source": [
    "# Store and share data "
   ]
  },
  {
   "cell_type": "markdown",
   "metadata": {},
   "source": [
    "## Setup your remote storage (local)"
   ]
  },
  {
   "cell_type": "code",
   "execution_count": 5,
   "metadata": {
    "ExecuteTime": {
     "end_time": "2020-06-07T19:06:42.430201Z",
     "start_time": "2020-06-07T19:06:41.577361Z"
    }
   },
   "outputs": [
    {
     "name": "stdout",
     "output_type": "stream",
     "text": [
      "Setting 'local' as a default remote.\n",
      "\u001b[0m"
     ]
    }
   ],
   "source": [
    "# Create new remote\n",
    "\n",
    "!dvc remote add -d local /tmp/dvc"
   ]
  },
  {
   "cell_type": "code",
   "execution_count": 6,
   "metadata": {
    "ExecuteTime": {
     "end_time": "2020-06-07T19:06:42.563299Z",
     "start_time": "2020-06-07T19:06:42.432990Z"
    }
   },
   "outputs": [
    {
     "name": "stdout",
     "output_type": "stream",
     "text": [
      " \u001b[31mM\u001b[m .dvc/config\r\n",
      " \u001b[31mD\u001b[m tutorial-Copy1.ipynb\r\n",
      "\u001b[31m??\u001b[m Lesson 3.ipynb\r\n",
      "\u001b[31m??\u001b[m tutorial.ipynb\r\n"
     ]
    }
   ],
   "source": [
    "# as you can see, .dvc/config is changed\n",
    "\n",
    "!git status -s"
   ]
  },
  {
   "cell_type": "code",
   "execution_count": 7,
   "metadata": {
    "ExecuteTime": {
     "end_time": "2020-06-07T19:06:42.689084Z",
     "start_time": "2020-06-07T19:06:42.566179Z"
    }
   },
   "outputs": [
    {
     "name": "stdout",
     "output_type": "stream",
     "text": [
      "[core]\r\n",
      "    remote = local\r\n",
      "['remote \"local\"']\r\n",
      "    url = /tmp/dvc\r\n"
     ]
    }
   ],
   "source": [
    "# check config file \n",
    "\n",
    "!cat .dvc/config"
   ]
  },
  {
   "cell_type": "code",
   "execution_count": 8,
   "metadata": {
    "ExecuteTime": {
     "end_time": "2020-06-07T19:06:42.743612Z",
     "start_time": "2020-06-07T19:06:42.692291Z"
    }
   },
   "outputs": [
    {
     "name": "stdout",
     "output_type": "stream",
     "text": [
      "[dvc-tutorial 5f36b3a] Add remote storage\n",
      " 3 files changed, 626 insertions(+)\n",
      " create mode 100644 Lesson 3.ipynb\n",
      " rename tutorial-Copy1.ipynb => tutorial.ipynb (100%)\n"
     ]
    }
   ],
   "source": [
    "%%bash\n",
    "\n",
    "git add .\n",
    "git commit -m \"Add remote storage\""
   ]
  },
  {
   "cell_type": "code",
   "execution_count": null,
   "metadata": {},
   "outputs": [],
   "source": []
  },
  {
   "cell_type": "code",
   "execution_count": null,
   "metadata": {},
   "outputs": [],
   "source": []
  },
  {
   "cell_type": "code",
   "execution_count": null,
   "metadata": {},
   "outputs": [],
   "source": []
  },
  {
   "cell_type": "markdown",
   "metadata": {},
   "source": [
    "## Push data to remote storage"
   ]
  },
  {
   "cell_type": "code",
   "execution_count": 9,
   "metadata": {
    "ExecuteTime": {
     "end_time": "2020-06-07T19:06:44.216286Z",
     "start_time": "2020-06-07T19:06:42.747131Z"
    },
    "scrolled": true
   },
   "outputs": [
    {
     "name": "stdout",
     "output_type": "stream",
     "text": [
      "3 files pushed                                                                  \n",
      "\u001b[0m"
     ]
    }
   ],
   "source": [
    "# Push data to remote\n",
    "\n",
    "!dvc push"
   ]
  },
  {
   "cell_type": "code",
   "execution_count": null,
   "metadata": {
    "ExecuteTime": {
     "end_time": "2020-06-07T16:39:05.495085Z",
     "start_time": "2020-06-07T16:39:05.486370Z"
    }
   },
   "outputs": [],
   "source": []
  },
  {
   "cell_type": "markdown",
   "metadata": {
    "ExecuteTime": {
     "end_time": "2020-06-07T16:39:19.987379Z",
     "start_time": "2020-06-07T16:39:19.972195Z"
    }
   },
   "source": [
    "## Retrieve data from remote storage "
   ]
  },
  {
   "cell_type": "code",
   "execution_count": 10,
   "metadata": {
    "ExecuteTime": {
     "end_time": "2020-06-07T19:06:45.359619Z",
     "start_time": "2020-06-07T19:06:44.218389Z"
    }
   },
   "outputs": [
    {
     "name": "stdout",
     "output_type": "stream",
     "text": [
      "Everything is up to date.                                                       \n",
      "\u001b[0m"
     ]
    }
   ],
   "source": [
    "!dvc pull"
   ]
  },
  {
   "cell_type": "code",
   "execution_count": null,
   "metadata": {},
   "outputs": [],
   "source": []
  },
  {
   "cell_type": "code",
   "execution_count": null,
   "metadata": {},
   "outputs": [],
   "source": []
  },
  {
   "cell_type": "code",
   "execution_count": null,
   "metadata": {},
   "outputs": [],
   "source": []
  },
  {
   "cell_type": "code",
   "execution_count": null,
   "metadata": {},
   "outputs": [],
   "source": []
  },
  {
   "cell_type": "code",
   "execution_count": null,
   "metadata": {},
   "outputs": [],
   "source": []
  },
  {
   "cell_type": "code",
   "execution_count": null,
   "metadata": {},
   "outputs": [],
   "source": []
  },
  {
   "cell_type": "code",
   "execution_count": null,
   "metadata": {},
   "outputs": [],
   "source": []
  },
  {
   "cell_type": "markdown",
   "metadata": {},
   "source": []
  },
  {
   "cell_type": "markdown",
   "metadata": {
    "ExecuteTime": {
     "end_time": "2019-06-09T07:57:55.231135Z",
     "start_time": "2019-06-09T07:57:55.190232Z"
    },
    "scrolled": true
   },
   "source": [
    "# Data Access"
   ]
  },
  {
   "cell_type": "markdown",
   "metadata": {},
   "source": [
    "## Find a dataset"
   ]
  },
  {
   "cell_type": "code",
   "execution_count": null,
   "metadata": {},
   "outputs": [],
   "source": []
  },
  {
   "cell_type": "code",
   "execution_count": null,
   "metadata": {},
   "outputs": [],
   "source": []
  },
  {
   "cell_type": "markdown",
   "metadata": {},
   "source": [
    "## Get or Import the dataset"
   ]
  },
  {
   "cell_type": "code",
   "execution_count": null,
   "metadata": {},
   "outputs": [],
   "source": []
  },
  {
   "cell_type": "markdown",
   "metadata": {},
   "source": [
    "# Special section"
   ]
  },
  {
   "cell_type": "markdown",
   "metadata": {},
   "source": [
    "## What is DVC-file?"
   ]
  },
  {
   "cell_type": "markdown",
   "metadata": {},
   "source": [
    "Data file internals\n",
    "\n",
    "\n",
    ">    If you take a look at the DVC-file, you will see that only outputs are defined in outs. \n",
    "    In this file, only one output is defined. The output contains the data file path in the repository and md5 cache.\n",
    "    This md5 cache determines a location of the actual content file in DVC cache directory .dvc/cache\n",
    "    >> Output from DVC-files defines the relationship between the data file path in a repository and the path in a cache directory. See also DVC File Format\n",
    "\n",
    "\n",
    "\n",
    "(c) dvc.org https://dvc.org/doc/tutorial/define-ml-pipeline"
   ]
  },
  {
   "cell_type": "code",
   "execution_count": 11,
   "metadata": {
    "ExecuteTime": {
     "end_time": "2020-06-07T19:06:45.483508Z",
     "start_time": "2020-06-07T19:06:45.362071Z"
    }
   },
   "outputs": [
    {
     "name": "stdout",
     "output_type": "stream",
     "text": [
      "md5: 7adb5a5c427826d65590eec7f0ff7e14\r\n",
      "outs:\r\n",
      "- md5: 4d301abed5efe50eccda350cde38e0eb\r\n",
      "  path: iris.csv\r\n",
      "  cache: true\r\n",
      "  metric: false\r\n",
      "  persist: false\r\n"
     ]
    }
   ],
   "source": [
    "!cat data/iris.csv.dvc"
   ]
  },
  {
   "cell_type": "code",
   "execution_count": 12,
   "metadata": {
    "ExecuteTime": {
     "end_time": "2020-06-07T19:06:45.609459Z",
     "start_time": "2020-06-07T19:06:45.486027Z"
    }
   },
   "outputs": [
    {
     "name": "stdout",
     "output_type": "stream",
     "text": [
      "4.0K\t.dvc/cache/2a/374d1cbcb489fe1656e59a6c30c636\r\n",
      "4.0K\t.dvc/cache/3b/fc9c9d544eb9001cfb1ed969d0f0e9\r\n",
      "4.0K\t.dvc/cache/4d/301abed5efe50eccda350cde38e0eb\r\n",
      "4.0K\t.dvc/cache/dc/7e504574edbadf8c086bb2c4bfd4d7\r\n",
      "4.0K\t.dvc/cache/ff/90f4d78575aaf2f280f585d521d3be\r\n",
      "4.0K\t.dvc/cache/runs/2e\r\n",
      "4.0K\t.dvc/cache/runs/37\r\n",
      "4.0K\t.dvc/cache/runs/c7\r\n"
     ]
    }
   ],
   "source": [
    "!du -sh .dvc/cache/*/*"
   ]
  },
  {
   "cell_type": "markdown",
   "metadata": {},
   "source": [
    "## Review Files and Directories created by DVC"
   ]
  },
  {
   "cell_type": "code",
   "execution_count": null,
   "metadata": {
    "ExecuteTime": {
     "end_time": "2019-06-09T08:09:29.967429Z",
     "start_time": "2019-06-09T08:09:25.838814Z"
    },
    "scrolled": true
   },
   "outputs": [],
   "source": []
  },
  {
   "cell_type": "code",
   "execution_count": null,
   "metadata": {},
   "outputs": [],
   "source": []
  },
  {
   "cell_type": "markdown",
   "metadata": {
    "ExecuteTime": {
     "end_time": "2019-06-09T08:12:06.692580Z",
     "start_time": "2019-06-09T08:12:04.239910Z"
    }
   },
   "source": [
    "## Explore Structure of cache directory"
   ]
  },
  {
   "cell_type": "code",
   "execution_count": null,
   "metadata": {},
   "outputs": [],
   "source": []
  },
  {
   "cell_type": "markdown",
   "metadata": {},
   "source": [
    "## Setup your AWS storage"
   ]
  },
  {
   "cell_type": "code",
   "execution_count": null,
   "metadata": {},
   "outputs": [],
   "source": []
  },
  {
   "cell_type": "markdown",
   "metadata": {},
   "source": [
    "## Setup your  Google Cloud Storage"
   ]
  },
  {
   "cell_type": "code",
   "execution_count": null,
   "metadata": {},
   "outputs": [],
   "source": []
  },
  {
   "cell_type": "code",
   "execution_count": null,
   "metadata": {},
   "outputs": [],
   "source": []
  },
  {
   "cell_type": "code",
   "execution_count": null,
   "metadata": {},
   "outputs": [],
   "source": []
  },
  {
   "cell_type": "code",
   "execution_count": null,
   "metadata": {},
   "outputs": [],
   "source": []
  }
 ],
 "metadata": {
  "kernelspec": {
   "display_name": "Python 3",
   "language": "python",
   "name": "python3"
  },
  "language_info": {
   "codemirror_mode": {
    "name": "ipython",
    "version": 3
   },
   "file_extension": ".py",
   "mimetype": "text/x-python",
   "name": "python",
   "nbconvert_exporter": "python",
   "pygments_lexer": "ipython3",
   "version": "3.7.2"
  },
  "toc": {
   "base_numbering": 1,
   "nav_menu": {},
   "number_sections": false,
   "sideBar": true,
   "skip_h1_title": false,
   "title_cell": "Table of Contents",
   "title_sidebar": "Contents",
   "toc_cell": false,
   "toc_position": {
    "height": "calc(100% - 180px)",
    "left": "10px",
    "top": "150px",
    "width": "231px"
   },
   "toc_section_display": true,
   "toc_window_display": true
  },
  "varInspector": {
   "cols": {
    "lenName": 16,
    "lenType": 16,
    "lenVar": 40
   },
   "kernels_config": {
    "python": {
     "delete_cmd_postfix": "",
     "delete_cmd_prefix": "del ",
     "library": "var_list.py",
     "varRefreshCmd": "print(var_dic_list())"
    },
    "r": {
     "delete_cmd_postfix": ") ",
     "delete_cmd_prefix": "rm(",
     "library": "var_list.r",
     "varRefreshCmd": "cat(var_dic_list()) "
    }
   },
   "types_to_exclude": [
    "module",
    "function",
    "builtin_function_or_method",
    "instance",
    "_Feature"
   ],
   "window_display": false
  }
 },
 "nbformat": 4,
 "nbformat_minor": 4
}
